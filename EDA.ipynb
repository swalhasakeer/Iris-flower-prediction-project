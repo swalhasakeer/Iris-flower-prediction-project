{
 "cells": [
  {
   "cell_type": "code",
   "execution_count": null,
   "id": "14f9b205",
   "metadata": {},
   "outputs": [],
   "source": [
    "import seaborn as sns\n",
    "iris=sns.load_dataset(\"iris\")\n",
    "iris"
   ]
  },
  {
   "cell_type": "code",
   "execution_count": null,
   "id": "8b365fb6",
   "metadata": {},
   "outputs": [],
   "source": [
    "from sklearn.preprocessing import LabelEncoder \n",
    "enc = LabelEncoder()\n",
    "y = enc.fit_transform(iris['species'])"
   ]
  },
  {
   "cell_type": "code",
   "execution_count": null,
   "id": "296f5381",
   "metadata": {},
   "outputs": [],
   "source": [
    "iris['species'].value_counts()"
   ]
  },
  {
   "cell_type": "code",
   "execution_count": null,
   "id": "d2df1932",
   "metadata": {},
   "outputs": [],
   "source": [
    "from sklearn.model_selection import train_test_split \n",
    "x = iris.drop(['species'],axis=1)\n",
    "\n",
    "x_train,x_test,y_train,y_test = train_test_split(x,y,test_size=0.2,random_state=42)"
   ]
  },
  {
   "cell_type": "code",
   "execution_count": null,
   "id": "4c2b368b",
   "metadata": {},
   "outputs": [],
   "source": [
    "from sklearn.linear_model import LogisticRegression\n",
    "model = LogisticRegression()\n",
    "model.fit(x_train,y_train)"
   ]
  },
  {
   "cell_type": "code",
   "execution_count": null,
   "id": "c720f9e2",
   "metadata": {},
   "outputs": [],
   "source": [
    "# from sklearn.metrics import accuracy_score\n",
    "# y_pred=model.predict(x_test)\n",
    "# accuracy=accuracy_score(y_test,y_pred)"
   ]
  },
  {
   "cell_type": "markdown",
   "id": "a6eb6bbb",
   "metadata": {},
   "source": [
    "PREDICTION"
   ]
  },
  {
   "cell_type": "code",
   "execution_count": null,
   "id": "d2316bd6",
   "metadata": {},
   "outputs": [],
   "source": [
    "x_train.columns"
   ]
  },
  {
   "cell_type": "code",
   "execution_count": null,
   "id": "0ada5e04",
   "metadata": {},
   "outputs": [],
   "source": [
    "# Use the same order of features used for training\n",
    "sample_input=[[6.7,3.0,5.2,2.3]]\n",
    "\n",
    "#Make prdiction\n",
    "prediction = model.predict(sample_input)\n",
    "print(prediction)"
   ]
  },
  {
   "cell_type": "code",
   "execution_count": null,
   "id": "77cc40a1",
   "metadata": {},
   "outputs": [],
   "source": [
    "if prediction == 0:\n",
    "    print(\"setosa\")\n",
    "elif prediction == 1:\n",
    "    print(\"versicolor\")\n",
    "elif prediction == 2:\n",
    "    print(\"virginica\")\n",
    "else:\n",
    "    print(\"Unknown Species\")"
   ]
  },
  {
   "cell_type": "markdown",
   "id": "c51789c5",
   "metadata": {},
   "source": [
    "PICKLE SAVING"
   ]
  },
  {
   "cell_type": "code",
   "execution_count": null,
   "id": "9fa316b9",
   "metadata": {},
   "outputs": [],
   "source": [
    "import pickle \n",
    "with open('Iris_model.pkl','wb') as file:\n",
    "  pickle.dump(model,file)"
   ]
  },
  {
   "cell_type": "markdown",
   "id": "a7cd5d21",
   "metadata": {},
   "source": [
    "Set-ExecutionPolicy -Scope CurrentUser -ExecutionPolicy RemoteSigned"
   ]
  }
 ],
 "metadata": {
  "kernelspec": {
   "display_name": "base",
   "language": "python",
   "name": "python3"
  },
  "language_info": {
   "codemirror_mode": {
    "name": "ipython",
    "version": 3
   },
   "file_extension": ".py",
   "mimetype": "text/x-python",
   "name": "python",
   "nbconvert_exporter": "python",
   "pygments_lexer": "ipython3",
   "version": "3.9.13"
  }
 },
 "nbformat": 4,
 "nbformat_minor": 5
}
